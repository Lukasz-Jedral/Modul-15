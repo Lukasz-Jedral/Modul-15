{
 "cells": [
  {
   "cell_type": "markdown",
   "metadata": {},
   "source": [
    "# Funkcje w pythonie 3\n",
    "### W tym notatniku w prosty sposób przedstawię proces tworzenia funkcji w pythonie"
   ]
  },
  {
   "cell_type": "markdown",
   "metadata": {},
   "source": [
    "##### Czym jest funkcja? \n",
    "Jest to wydzielona cześć kodu mająca na celu przeprowadzić konretne operacje. Używa się jej kiedy dana czynność bedzie się powtarzała wielokrotnie.\n",
    "Funcja zawsze zwraca jakiś wynik. Bardzo często do funkcjonowania funkcja potrzebuje danych wejściowych (argumentów) ale nie jest to konieczne.<br>\n",
    "Funkję definjuje się poprzez komęde def nazwa_funkcji(): <br>\n",
    "Przykład prostej funkcji (w tym przypadku bez argumentów)"
   ]
  },
  {
   "cell_type": "code",
   "execution_count": 6,
   "metadata": {},
   "outputs": [
    {
     "name": "stdout",
     "output_type": "stream",
     "text": [
      "Moja pierwsza funkcja\n"
     ]
    }
   ],
   "source": [
    "def moja_funkcja():\n",
    "    print(\"Moja pierwsza funkcja\")\n",
    "    \n",
    "moja_funkcja()"
   ]
  },
  {
   "cell_type": "markdown",
   "metadata": {},
   "source": [
    "Jak widać na powyższym przykładzie aby wywołać funcję należy podać jej nazwę wraz z () <br>\n",
    "W naszym przykładzie wynikiem działania funkcji je wyświetlenie komunikatu: <br>\n",
    "Moja pierwsza funkcja"
   ]
  },
  {
   "cell_type": "markdown",
   "metadata": {},
   "source": [
    "Istnieją funkcje które do prawidłowego działania potrzebuja danych wejściowych tzw. argumentów. Sa to wartości dostarczone przez urzytkonika lub inne funkcje.<br>\n",
    "Przykładem takiej funcji może być funkcja dodająca dwie liczby i zwracająca wynik tego działania:"
   ]
  },
  {
   "cell_type": "code",
   "execution_count": 7,
   "metadata": {},
   "outputs": [],
   "source": [
    "def dodaj_dwie_liczby(x,y):\n",
    "    wynik = x + y\n",
    "    return wynik"
   ]
  },
  {
   "cell_type": "markdown",
   "metadata": {},
   "source": [
    "Jak widać podczas definiowania funcji w okrągłych nawiasach podano jakie zmienne będą wymagane przez funcje do jej poprawnego działania.<br>\n",
    "Pojawiła się również komenda return która mówi funkcji co ma zwrócić jako wynik swojego działania.<br>\n",
    "Dla x = 2 i y = 3 wywołanie funkcji będzie wyglądało następująco:"
   ]
  },
  {
   "cell_type": "code",
   "execution_count": 8,
   "metadata": {},
   "outputs": [
    {
     "data": {
      "text/plain": [
       "5"
      ]
     },
     "execution_count": 8,
     "metadata": {},
     "output_type": "execute_result"
    }
   ],
   "source": [
    "dodaj_dwie_liczby(2,3)"
   ]
  }
 ],
 "metadata": {
  "kernelspec": {
   "display_name": "Python 3",
   "language": "python",
   "name": "python3"
  },
  "language_info": {
   "codemirror_mode": {
    "name": "ipython",
    "version": 3
   },
   "file_extension": ".py",
   "mimetype": "text/x-python",
   "name": "python",
   "nbconvert_exporter": "python",
   "pygments_lexer": "ipython3",
   "version": "3.8.3"
  }
 },
 "nbformat": 4,
 "nbformat_minor": 4
}
